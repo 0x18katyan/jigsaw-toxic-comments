{
 "cells": [
  {
   "cell_type": "code",
   "execution_count": 1,
   "id": "ba28da14-561e-436c-86d3-86795f95fcc2",
   "metadata": {},
   "outputs": [],
   "source": [
    "import pandas as pd\n",
    "\n",
    "import warnings\n",
    "warnings.filterwarnings('ignore')\n",
    "\n",
    "import transformers\n",
    "from transformers import AutoTokenizer, AutoModel\n",
    "\n",
    "import torch\n",
    "import torch.nn as nn\n",
    "import torch.nn.functional as F\n",
    "\n",
    "from torch.utils.data import Dataset, DataLoader\n",
    "\n",
    "import pytorch_lightning as pl\n",
    "from pytorch_lightning.loggers import TensorBoardLogger\n",
    "\n",
    "import os\n",
    "import gc"
   ]
  },
  {
   "cell_type": "code",
   "execution_count": 2,
   "id": "af58f53f-16c5-4a44-bfff-d4d31dc7e563",
   "metadata": {},
   "outputs": [],
   "source": [
    "class ToxicData(Dataset):\n",
    "    def __init__(self, path, tokenizer):\n",
    "        super(ToxicData, self).__init__()\n",
    "        \n",
    "        self.dataframe = pd.read_csv(path)\n",
    "        self.tokenizer = tokenizer\n",
    "    \n",
    "    def __len__(self):\n",
    "        return len(self.dataframe)\n",
    "    \n",
    "    def __getitem__(self, idx):\n",
    "        \n",
    "        pair = self.dataframe.iloc[idx]\n",
    "        less_toxic = pair['less_toxic']\n",
    "        more_toxic = pair['more_toxic']\n",
    "        \n",
    "        more_toxic = tokenizer.encode_plus(more_toxic, add_special_tokens=True, padding = 'max_length', max_length=128, truncation=True, return_tensors='pt')\n",
    "        less_toxic = tokenizer.encode_plus(less_toxic, add_special_tokens=True, padding = 'max_length', max_length=128, truncation=True, return_tensors='pt')\n",
    "        \n",
    "        ##Squeezing because it adds a sequence dimension which is not needed in the default\n",
    "        less_toxic_tokens =  less_toxic['input_ids'].squeeze(0)\n",
    "        less_toxic_attn_mask = less_toxic['attention_mask'].squeeze(0)\n",
    "        more_toxic_tokens = more_toxic['input_ids'].squeeze(0)\n",
    "        more_toxic_attn_mask = more_toxic['attention_mask'].squeeze(0)\n",
    "                \n",
    "        targets = torch.ones(1).squeeze(0) ##If this is 1 then more toxic should be first input to MarginRankingLoss else use -1.\n",
    "        \n",
    "        return {'less_toxic_tokens': less_toxic_tokens, 'less_toxic_attn_mask': less_toxic_attn_mask, 'more_toxic_tokens': more_toxic_tokens, 'more_toxic_attn_mask': more_toxic_attn_mask, 'targets': targets}"
   ]
  },
  {
   "cell_type": "code",
   "execution_count": 3,
   "id": "fc5b1c04-2095-413f-8acd-72353d768441",
   "metadata": {},
   "outputs": [],
   "source": [
    "device = torch.device('cuda' if torch.cuda.is_available() else 'cpu')\n",
    "\n",
    "dataPath = './data/validation_data.csv'\n",
    "# df = pd.read_csv('./data/validation_data.csv')\n",
    "\n",
    "# tokenizer = transformers.AutoTokenizer.from_pretrained('bert-base-cased', cache_dir = './input/tokenizer')\n",
    "tokenizer = transformers.AutoTokenizer.from_pretrained('bert-base-cased')\n",
    "\n",
    "dataset = ToxicData(dataPath, tokenizer)\n",
    "train_loader = DataLoader(dataset, batch_size = 128, shuffle = True, num_workers = 4, pin_memory = True)"
   ]
  },
  {
   "cell_type": "code",
   "execution_count": 4,
   "id": "95eed52f-22f8-4fc0-b311-825b0c16b92e",
   "metadata": {},
   "outputs": [],
   "source": [
    "class LitBert(pl.LightningModule):\n",
    "    def __init__(self):\n",
    "        super(LitBert, self).__init__()\n",
    "        \n",
    "        self.bert = AutoModel.from_pretrained('bert-base-cased')\n",
    "        self.fc = nn.Linear(self.bert.config.hidden_size, 1)\n",
    "        self.dropout = nn.Dropout(0.5)\n",
    "            \n",
    "    def forward(self, x, attention_mask):\n",
    "        \n",
    "        x = self.bert(x, attention_mask, output_hidden_states=False)\n",
    "        x = self.dropout(x[1])\n",
    "        x = self.fc(x)\n",
    "        return x\n",
    "    \n",
    "    def training_step(self, batch, batch_idx):\n",
    "            \n",
    "        less_toxic_tokens = batch['less_toxic_tokens']\n",
    "        less_toxic_attn_mask = batch['less_toxic_attn_mask']\n",
    "        more_toxic_tokens = batch['more_toxic_tokens']\n",
    "        more_toxic_attn_mask = batch['more_toxic_attn_mask']\n",
    "        targets = batch['targets']\n",
    "\n",
    "        less_toxic_score = model(less_toxic_tokens, less_toxic_attn_mask)\n",
    "        more_toxic_score = model(more_toxic_tokens, more_toxic_attn_mask)\n",
    "\n",
    "        loss = F.margin_ranking_loss(more_toxic_score, less_toxic_score, targets, margin = 1.0)\n",
    "        \n",
    "        self.log(\"train_loss\", loss)\n",
    "        \n",
    "        return loss\n",
    "    \n",
    "    def configure_optimizers(self):\n",
    "        optimizer = torch.optim.AdamW(self.parameters(), lr = 3e-5)\n",
    "        return optimizer"
   ]
  },
  {
   "cell_type": "code",
   "execution_count": 7,
   "id": "b3598104-2abe-456c-ba63-d687eb74908d",
   "metadata": {},
   "outputs": [
    {
     "data": {
      "application/vnd.jupyter.widget-view+json": {
       "model_id": "55d15c33f18e431780e249c7c45916e6",
       "version_major": 2,
       "version_minor": 0
      },
      "text/plain": [
       "Downloading:   0%|          | 0.00/570 [00:00<?, ?B/s]"
      ]
     },
     "metadata": {},
     "output_type": "display_data"
    },
    {
     "data": {
      "application/vnd.jupyter.widget-view+json": {
       "model_id": "cb72ee1dd4cb40febe64af4efa3674cb",
       "version_major": 2,
       "version_minor": 0
      },
      "text/plain": [
       "Downloading:   0%|          | 0.00/416M [00:00<?, ?B/s]"
      ]
     },
     "metadata": {},
     "output_type": "display_data"
    },
    {
     "name": "stderr",
     "output_type": "stream",
     "text": [
      "Some weights of the model checkpoint at bert-base-cased were not used when initializing BertModel: ['cls.predictions.decoder.weight', 'cls.predictions.transform.dense.weight', 'cls.seq_relationship.bias', 'cls.seq_relationship.weight', 'cls.predictions.transform.LayerNorm.weight', 'cls.predictions.bias', 'cls.predictions.transform.LayerNorm.bias', 'cls.predictions.transform.dense.bias']\n",
      "- This IS expected if you are initializing BertModel from the checkpoint of a model trained on another task or with another architecture (e.g. initializing a BertForSequenceClassification model from a BertForPreTraining model).\n",
      "- This IS NOT expected if you are initializing BertModel from the checkpoint of a model that you expect to be exactly identical (initializing a BertForSequenceClassification model from a BertForSequenceClassification model).\n"
     ]
    }
   ],
   "source": [
    "# model = transformers.AutoModel.from_pretrained('bert-base-cased', cache_dir = './input/toxic-bert/model/')\n",
    "# model = transformers.AutoModel.from_pretrained('bert-base-cased')\n",
    "model = LitBert()"
   ]
  },
  {
   "cell_type": "code",
   "execution_count": 6,
   "id": "5ba4c72d-5888-4f4a-9876-6c46eb3a5f9d",
   "metadata": {},
   "outputs": [],
   "source": [
    "num_epochs = 20"
   ]
  },
  {
   "cell_type": "code",
   "execution_count": 7,
   "id": "b84ce50c-2700-4231-a832-0b87a5a64e5e",
   "metadata": {},
   "outputs": [
    {
     "name": "stderr",
     "output_type": "stream",
     "text": [
      "Using 16bit native Automatic Mixed Precision (AMP)\n",
      "GPU available: True, used: True\n",
      "TPU available: False, using: 0 TPU cores\n",
      "IPU available: False, using: 0 IPUs\n",
      "LOCAL_RANK: 0 - CUDA_VISIBLE_DEVICES: [0]\n",
      "\n",
      "  | Name    | Type      | Params\n",
      "--------------------------------------\n",
      "0 | bert    | BertModel | 108 M \n",
      "1 | fc      | Linear    | 769   \n",
      "2 | dropout | Dropout   | 0     \n",
      "--------------------------------------\n",
      "108 M     Trainable params\n",
      "0         Non-trainable params\n",
      "108 M     Total params\n",
      "216.622   Total estimated model params size (MB)\n"
     ]
    },
    {
     "data": {
      "application/vnd.jupyter.widget-view+json": {
       "model_id": "64e17fb3e8864d8e9bb8aa0ecefe1ea1",
       "version_major": 2,
       "version_minor": 0
      },
      "text/plain": [
       "Training: 0it [00:00, ?it/s]"
      ]
     },
     "metadata": {},
     "output_type": "display_data"
    }
   ],
   "source": [
    "logger = TensorBoardLogger(save_dir = os.getcwd(), version=1, name='lightning_logs')\n",
    "trainer = pl.Trainer(max_epochs=num_epochs, precision = 16, gpus = 1, deterministic = True, logger=logger)\n",
    "trainer.fit(model, train_loader)"
   ]
  },
  {
   "cell_type": "code",
   "execution_count": 8,
   "id": "e9991d2d-b9cf-4fd3-aa22-b741ed765882",
   "metadata": {},
   "outputs": [],
   "source": [
    "@torch.no_grad()\n",
    "def val_step(dataloader):\n",
    "    \n",
    "    total_loss = 0\n",
    "    \n",
    "    for idx, batch in enumerate(dataloader):    \n",
    "\n",
    "        less_toxic_tokens = batch['less_toxic_tokens'].to(device)\n",
    "        less_toxic_attn_mask = batch['less_toxic_attn_mask'].to(device)\n",
    "        \n",
    "        more_toxic_tokens = batch['more_toxic_tokens'].to(device)\n",
    "        more_toxic_attn_mask = batch['more_toxic_attn_mask'].to(device)\n",
    "        \n",
    "        targets = batch['targets'].to(device)\n",
    "\n",
    "        less_toxic_score = model(less_toxic_tokens, less_toxic_attn_mask)\n",
    "        more_toxic_score = model(more_toxic_tokens, more_toxic_attn_mask)\n",
    "\n",
    "        batch_loss = criterion(more_toxic_score, less_toxic_score, targets)\n",
    "        total_loss += batch_loss.item()\n",
    "    \n",
    "    return total_loss"
   ]
  },
  {
   "cell_type": "code",
   "execution_count": 11,
   "id": "fc72da17-3d25-41b5-9890-a0cebf8f8cf0",
   "metadata": {},
   "outputs": [],
   "source": [
    "##Free Memory before submission\n",
    "torch.cuda.empty_cache()\n",
    "_ = gc.collect()"
   ]
  },
  {
   "cell_type": "code",
   "execution_count": 12,
   "id": "1348800b-3bf3-4d53-a2ac-aa0c875e1bc5",
   "metadata": {},
   "outputs": [],
   "source": [
    "to_scoreList = to_score['text'].tolist()"
   ]
  },
  {
   "cell_type": "code",
   "execution_count": 22,
   "id": "b38fb77b-05d6-4c4d-9015-0a0926fd0ec6",
   "metadata": {},
   "outputs": [],
   "source": [
    "class ValToxicData(Dataset):\n",
    "    def __init__(self, path, tokenizer):\n",
    "        super(ValToxicData, self).__init__()\n",
    "        \n",
    "        self.dataframe = pd.read_csv(path)\n",
    "        self.tokenizer = tokenizer\n",
    "    \n",
    "    def __len__(self):\n",
    "        return len(self.dataframe)\n",
    "    \n",
    "    def __getitem__(self, idx):\n",
    "        \n",
    "        text = self.dataframe.iloc[idx]['text']\n",
    "        \n",
    "        text = tokenizer.encode_plus(text, add_special_tokens=True, padding = 'max_length', max_length=128, truncation=True, return_tensors='pt')\n",
    "        \n",
    "        tokens =  text['input_ids'].squeeze(0)\n",
    "        attn_mask = text['attention_mask'].squeeze(0)\n",
    "\n",
    "        return {'tokens': tokens, 'attn_mask': attn_mask}"
   ]
  },
  {
   "cell_type": "code",
   "execution_count": 43,
   "id": "66f3f228-8599-496b-9de1-cdf589f1081e",
   "metadata": {},
   "outputs": [],
   "source": [
    "predDataset = ValToxicData('./data/comments_to_score.csv', tokenizer)\n",
    "val_dataloader = DataLoader(predDataset, batch_size = 64, shuffle = False, num_workers = 0, pin_memory = True)"
   ]
  },
  {
   "cell_type": "code",
   "execution_count": 44,
   "id": "e6843c36-867f-4625-a326-74eb64fa377c",
   "metadata": {},
   "outputs": [],
   "source": [
    "@torch.no_grad()\n",
    "def val_step(dataloader):\n",
    "\n",
    "    \n",
    "    preds = []\n",
    "    \n",
    "    for idx, batch in enumerate(dataloader):    \n",
    "        \n",
    "        tokens = batch['tokens'].to(device)\n",
    "        attn_mask = batch['attn_mask'].to(device)\n",
    "        \n",
    "        toxic_score = model.to(device).forward(tokens, attn_mask)\n",
    "        preds.append(toxic_score)\n",
    "    \n",
    "    preds = torch.cat(preds)\n",
    "    preds = preds.reshape(-1)\n",
    "    \n",
    "    return preds"
   ]
  },
  {
   "cell_type": "code",
   "execution_count": 45,
   "id": "b2cb266a-46b3-461c-b90f-40f7e2b0ab25",
   "metadata": {},
   "outputs": [],
   "source": [
    "preds = val_step(val_dataloader)"
   ]
  },
  {
   "cell_type": "code",
   "execution_count": 51,
   "id": "ff6137d6-eafe-49c4-9013-532118c97ebc",
   "metadata": {},
   "outputs": [],
   "source": [
    "torch.cuda.empty_cache()\n",
    "_ = gc.collect()"
   ]
  },
  {
   "cell_type": "code",
   "execution_count": 52,
   "id": "48c53238-ce00-4b36-8f05-1fec471541d6",
   "metadata": {},
   "outputs": [],
   "source": [
    "submission_df = pd.DataFrame(predDataset.dataframe['comment_id'])\n",
    "submission_df['score'] = preds.cpu().numpy()"
   ]
  },
  {
   "cell_type": "code",
   "execution_count": null,
   "id": "03117985-7301-4908-8dae-50cdf1b99f6f",
   "metadata": {},
   "outputs": [],
   "source": []
  }
 ],
 "metadata": {
  "kernelspec": {
   "display_name": "kaggle",
   "language": "python",
   "name": "kaggle"
  },
  "language_info": {
   "codemirror_mode": {
    "name": "ipython",
    "version": 3
   },
   "file_extension": ".py",
   "mimetype": "text/x-python",
   "name": "python",
   "nbconvert_exporter": "python",
   "pygments_lexer": "ipython3",
   "version": "3.9.7"
  }
 },
 "nbformat": 4,
 "nbformat_minor": 5
}
